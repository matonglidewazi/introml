{
 "cells": [
  {
   "cell_type": "markdown",
   "metadata": {},
   "source": [
    "# Lab:  Model Selection for Neural Data\n",
    "\n",
    "Machine learning is a key tool for neuroscientists to understand how sensory and motor signals are encoded in the brain. In addition to improving our scientific understanding of neural phenomena, understanding neural encoding is critical for brain machine interfaces. In this lab, you will use linear regression with feature selection for performing some simple analysis on real neural signals. \n",
    "\n",
    "Before doing this lab, you should review the ideas in the [polynomial model selection demo](./polyfit.ipynb).  In addition to the concepts in that demo, you will learn to:\n",
    "* Load MATLAB data\n",
    "* Formulate models of different complexities using heuristic model selection\n",
    "* Fit a linear model for the different model orders (= # of features)\n",
    "* Select the optimal features via cross-validation \n",
    "  "
   ]
  },
  {
   "cell_type": "markdown",
   "metadata": {},
   "source": [
    "## Loading the data\n",
    "\n",
    "The data in this lab comes from neural recordings described in:\n",
    "\n",
    "<a href=\"http://jn.physiology.org/content/106/2/764.short\">\n",
    "Stevenson, Ian H., et al. \"Statistical assessment of the stability of neural movement representations.\" Journal of neurophysiology 106.2 (2011): 764-774</a>\n",
    "\n",
    "Neurons are the basic information processing units in the brain.  Neurons communicate with one another via *spikes* or *action potentials* which are brief events where voltage in the neuron rapidly rises then falls.  These spikes trigger the electro-chemical signals between one neuron and another.  In this experiment, the spikes were recorded from 196 neurons in the primary motor cortex (M1) of a monkey using an electrode array implanted onto the surface of a monkey's brain.  During the recording, the monkey performed several reaching tasks and the position and velocity of the hand was recorded as well.  \n",
    "\n",
    "The goal of the experiment is to try to *read the monkey's brain*:  That is, predict the hand position from the neural signals from the motor cortex.\n",
    "\n",
    "We first load the basic packages."
   ]
  },
  {
   "cell_type": "code",
   "execution_count": 1,
   "metadata": {},
   "outputs": [],
   "source": [
    "import numpy as np\n",
    "import matplotlib\n",
    "import matplotlib.pyplot as plt\n",
    "%matplotlib inline"
   ]
  },
  {
   "cell_type": "markdown",
   "metadata": {},
   "source": [
    "The full data is available on the CRCNS website  http://crcns.org/data-sets/movements/dream.  This website has a large number of great datasets and can be used for projects as well.  To make this lab easier, I have pre-processed the data slightly and placed it in the file `StevensonV2.mat`, which is a MATLAB file.  You will need to have this file downloaded in the directory you are working on.\n",
    "\n",
    "Since MATLAB is widely-used, `python` provides method for loading MATLAB `mat` files.  We can use these commands to load the data as follows."
   ]
  },
  {
   "cell_type": "code",
   "execution_count": 2,
   "metadata": {},
   "outputs": [],
   "source": [
    "import scipy.io\n",
    "mat_dict = scipy.io.loadmat('StevensonV2.mat')"
   ]
  },
  {
   "cell_type": "markdown",
   "metadata": {},
   "source": [
    "The returned structure, `mat_dict`, is a dictionary with each of the MATLAB variables that were saved in the `.mat` file.  Use the `.keys()` method to list all the variables."
   ]
  },
  {
   "cell_type": "code",
   "execution_count": 5,
   "metadata": {},
   "outputs": [
    {
     "name": "stdout",
     "output_type": "stream",
     "text": [
      "dict_keys(['__header__', '__version__', '__globals__', 'Publication', 'timeBase', 'spikes', 'time', 'handVel', 'handPos', 'target', 'startBins', 'targets', 'startBinned']) <class 'dict_keys'>\n"
     ]
    }
   ],
   "source": [
    "#TODO\n",
    "print (mat_dict.keys(), type(mat_dict.keys()))"
   ]
  },
  {
   "cell_type": "markdown",
   "metadata": {},
   "source": [
    "We extract two variables, `spikes` and `handPos`, from the dictionary `mat_dict`, which represent the recorded spikes per neuron and the hand position.  We take the transpose of the spikes data so that it is in the form time bins $\\times$ number of neurons.  For the `handPos` data, we take the second component which is the position of monkey's hand."
   ]
  },
  {
   "cell_type": "code",
   "execution_count": 6,
   "metadata": {},
   "outputs": [],
   "source": [
    "X0 = mat_dict['spikes'].T\n",
    "y0 = mat_dict['handPos'][0,:]"
   ]
  },
  {
   "cell_type": "markdown",
   "metadata": {},
   "source": [
    "The `spikes` matrix will be a `nt x nneuron` matrix where `nt` is the number of time bins and `nneuron` is the number of neurons.  Each entry `spikes[k,j]` is the number of spikes in time bin `k` from neuron `j`.  Use the `shape` method to find `nt` and `nneuron` and print the values."
   ]
  },
  {
   "cell_type": "code",
   "execution_count": 8,
   "metadata": {},
   "outputs": [
    {
     "name": "stdout",
     "output_type": "stream",
     "text": [
      "nt = 15536, and nneuron = 196\n"
     ]
    }
   ],
   "source": [
    "# TODO\n",
    "print('nt = {}, and nneuron = {}'.format(X0.shape[0], X0.shape[1]))"
   ]
  },
  {
   "cell_type": "markdown",
   "metadata": {},
   "source": [
    "Now extract the `time` variable from the `mat_dict` dictionary.  Reshape this to a 1D array with `nt` components.  Each entry `time[k]` is the starting time of the time bin `k`.  Find the sampling time `tsamp` which is the time between measurements, and `ttotal` which is the total duration of the recording."
   ]
  },
  {
   "cell_type": "code",
   "execution_count": 18,
   "metadata": {},
   "outputs": [
    {
     "name": "stdout",
     "output_type": "stream",
     "text": [
      "sampling time = 0.05, and total recording duration = 776.75\n"
     ]
    }
   ],
   "source": [
    "# TODO\n",
    "time =  mat_dict['time'].T.reshape(X0.shape[0])\n",
    "time_shift = time[1:] - time[:time.shape[0]-1]\n",
    "tsamp = sum(time_shift)/len(time_shift)\n",
    "ttotal = time[-1]- time[0]\n",
    "\n",
    "print('sampling time = {}, and total recording duration = {}'.format(tsamp,ttotal))"
   ]
  },
  {
   "cell_type": "markdown",
   "metadata": {},
   "source": [
    "## Linear fitting on all the neurons\n",
    "\n",
    "First divide the data into training and test with approximately half the samples in each.  Let `Xtr` and `ytr` denote the training data and `Xts` and `yts` denote the test data."
   ]
  },
  {
   "cell_type": "code",
   "execution_count": 21,
   "metadata": {},
   "outputs": [],
   "source": [
    "# TODO\n",
    "from sklearn.model_selection import train_test_split\n",
    "\n",
    "Xtr, Xts, ytr, yts = train_test_split(X0, y0, test_size=0.5)"
   ]
  },
  {
   "cell_type": "markdown",
   "metadata": {},
   "source": [
    "Now, we begin by trying to fit a simple linear model using *all* the neurons as predictors.  To this end, use the `sklearn.linear_model` package to create a regression object, and fit the linear model to the training data."
   ]
  },
  {
   "cell_type": "code",
   "execution_count": 22,
   "metadata": {},
   "outputs": [],
   "source": [
    "from sklearn.linear_model import LinearRegression\n",
    "\n",
    "# TODO\n",
    "all_neuron_model = LinearRegression().fit(Xtr, ytr)"
   ]
  },
  {
   "cell_type": "markdown",
   "metadata": {},
   "source": [
    "Measure and print the normalized RSS on the test data.  "
   ]
  },
  {
   "cell_type": "code",
   "execution_count": 100,
   "metadata": {},
   "outputs": [
    {
     "name": "stdout",
     "output_type": "stream",
     "text": [
      "normalized RRS on test data = 3.829564649502364e+21\n"
     ]
    }
   ],
   "source": [
    "# TODO\n",
    "ypred = all_neuron_model.predict(Xts)\n",
    "all_neuron_RSS = np.dot((yts - ypred).T, (yts - ypred))\n",
    "all_neuron_S = np.sum((yts - np.mean(yts))**2)\n",
    "all_neuron_NRSS = all_neuron_RSS/all_neuron_S\n",
    "\n",
    "print('normalized RRS on test data = {}'.format(all_neuron_NRSS))"
   ]
  },
  {
   "cell_type": "markdown",
   "metadata": {},
   "source": [
    "You should see that the test error is enormous -- the model does not generalize to the test data at all. "
   ]
  },
  {
   "cell_type": "markdown",
   "metadata": {},
   "source": [
    "## Linear Fitting  with Heuristic Model Selection\n",
    "\n",
    "The above shows that we need a way to reduce the model complexity.  One simple idea is to select only the neurons that individually have a high correlation with the output.   \n",
    "\n",
    "Write code which computes the coefficient of determination, $R^2_k$, for each neuron $k$.  Plot the $R^2_k$ values.  \n",
    "\n",
    "You can use a for loop over each neuron, but if you want to make efficient code try to avoid the for loop and use [python broadcasting](../Basics/numpy_axes_broadcasting.ipynb)."
   ]
  },
  {
   "cell_type": "code",
   "execution_count": 125,
   "metadata": {},
   "outputs": [
    {
     "name": "stderr",
     "output_type": "stream",
     "text": [
      "C:\\ProgramData\\Anaconda3\\lib\\site-packages\\ipykernel_launcher.py:7: RuntimeWarning: invalid value encountered in true_divide\n",
      "  import sys\n"
     ]
    },
    {
     "data": {
      "text/plain": [
       "<StemContainer object of 3 artists>"
      ]
     },
     "execution_count": 125,
     "metadata": {},
     "output_type": "execute_result"
    },
    {
     "data": {
      "image/png": "[encoded data removed]",
      "text/plain": [
       "<Figure size 432x288 with 1 Axes>"
      ]
     },
     "metadata": {},
     "output_type": "display_data"
    }
   ],
   "source": [
    "# TODO\n",
    "import scipy \n",
    "\n",
    "y_normal = y0 - np.mean(y0)\n",
    "X_normal = X0 - np.mean(X0, axis=0)\n",
    "\n",
    "R_2 = (np.dot(y_normal.T, X_normal)**2) / ((np.dot(y_normal.T, y_normal))*(np.sum(X_normal**2, axis=0)))\n",
    "R_2 = R_2[~np.isnan(R_2)] #removing the nan value\n",
    "plt.stem(np.arange(len(R_2)), R_2)"
   ]
  },
  {
   "cell_type": "markdown",
   "metadata": {},
   "source": [
    "We see that many neurons have low correlation and can probably be discarded from the model.    \n",
    "\n",
    "Use the `np.argsort()` command to find the indices of the `d=50` neurons with the highest $R^2_k$ value.  Put the `d` indices into an array `Isel`.  Print the indices of the neurons with the 10 highest correlations."
   ]
  },
  {
   "cell_type": "code",
   "execution_count": 126,
   "metadata": {},
   "outputs": [
    {
     "name": "stdout",
     "output_type": "stream",
     "text": [
      "The neurons with the ten highest R^2 values = [114  18 160 133 189  67 125  58 187 163]\n"
     ]
    }
   ],
   "source": [
    "d = 50  # Number of neurons to use\n",
    "\n",
    "# TODO\n",
    "Isel = np.argsort(R_2)[-d:]\n",
    "\n",
    "print(\"The neurons with the ten highest R^2 values = {}\".format(Isel[-10:]))"
   ]
  },
  {
   "cell_type": "markdown",
   "metadata": {},
   "source": [
    "Fit a model using only the `d` neurons selected in the previous step and print both the test RSS per sample and the normalized test RSS."
   ]
  },
  {
   "cell_type": "code",
   "execution_count": 127,
   "metadata": {},
   "outputs": [
    {
     "name": "stdout",
     "output_type": "stream",
     "text": [
      "RRS persample = 0.17667182211720966, and normalized RRS on test data = 0.6098317117945402\n"
     ]
    }
   ],
   "source": [
    "# TODO\n",
    "X0S = X0[:,Isel]\n",
    "y0S = y0\n",
    "\n",
    "XtrS, XtsS, ytrS, ytsS = train_test_split(X0S, y0S, test_size=0.5)\n",
    "s_neuron_model = LinearRegression().fit(XtrS, ytrS)\n",
    "\n",
    "ypredS = s_neuron_model.predict(XtsS)\n",
    "s_neuron_RSS = np.dot((ytsS - ypredS).T, (ytsS - ypredS))\n",
    "s_neuron_S = np.sum((ytsS - np.mean(ytsS))**2)\n",
    "s_neuron_NRSS = s_neuron_RSS/s_neuron_S\n",
    "\n",
    "print('RRS persample = {}, and normalized RRS on test data = {}'.format(s_neuron_RSS/d, s_neuron_NRSS))"
   ]
  },
  {
   "cell_type": "markdown",
   "metadata": {},
   "source": [
    "Create a scatter plot of the predicted vs. actual hand motion on the test data.  On the same plot, plot the line where `yts_hat = yts`."
   ]
  },
  {
   "cell_type": "code",
   "execution_count": 128,
   "metadata": {},
   "outputs": [
    {
     "data": {
      "text/plain": [
       "<matplotlib.collections.PathCollection at 0x1a1b8a7fa20>"
      ]
     },
     "execution_count": 128,
     "metadata": {},
     "output_type": "execute_result"
    },
    {
     "data": {
      "image/png": "[encoded data removed]",
      "text/plain": [
       "<Figure size 432x288 with 1 Axes>"
      ]
     },
     "metadata": {},
     "output_type": "display_data"
    }
   ],
   "source": [
    "# TODO\n",
    "x_y = np.linspace(min(min(ypredS),min(ytsS)),max(max(ypredS),max(ytsS)),100)\n",
    "plt.plot(x_y,x_y,'r-',linewidth=2)\n",
    "plt.xlabel('actual hand motion')\n",
    "plt.ylabel('predicted hand motion')\n",
    "plt.scatter(ytsS,ypredS, s = 2)"
   ]
  },
  {
   "cell_type": "markdown",
   "metadata": {},
   "source": [
    "## Using K-fold cross validation for the optimal number of neurons\n",
    "\n",
    "In the above, we fixed `d=50`.  We can use cross validation to try to determine the best number of neurons to use.  Try model orders with `d=10,20,...,190`.  For each value of `d`, use K-fold validation with 10 folds to estimate the test RSS.  For a data set this size, each fold will take a few seconds to compute, so it may be useful to print the progress."
   ]
  },
  {
   "cell_type": "code",
   "execution_count": 161,
   "metadata": {},
   "outputs": [
    {
     "name": "stdout",
     "output_type": "stream",
     "text": [
      "5.263157894736842 percent of mission complete\n",
      "10.526315789473683 percent of mission complete\n",
      "15.789473684210526 percent of mission complete\n",
      "21.052631578947366 percent of mission complete\n",
      "26.31578947368421 percent of mission complete\n",
      "31.57894736842105 percent of mission complete\n",
      "36.84210526315789 percent of mission complete\n",
      "42.10526315789473 percent of mission complete\n",
      "47.368421052631575 percent of mission complete\n",
      "52.63157894736842 percent of mission complete\n",
      "57.89473684210527 percent of mission complete\n",
      "63.1578947368421 percent of mission complete\n",
      "68.42105263157895 percent of mission complete\n",
      "73.68421052631578 percent of mission complete\n",
      "78.94736842105263 percent of mission complete\n",
      "84.21052631578947 percent of mission complete\n",
      "89.47368421052632 percent of mission complete\n",
      "94.73684210526315 percent of mission complete\n",
      "100.0 percent of mission complete\n"
     ]
    }
   ],
   "source": [
    "import  sklearn.model_selection \n",
    "\n",
    "# Create a k-fold object\n",
    "nfold = 10\n",
    "kf = sklearn.model_selection.KFold(n_splits=nfold,shuffle=True)\n",
    "\n",
    "# Model orders to be tested\n",
    "dtest = np.arange(10,200,10)\n",
    "nd = len(dtest)\n",
    "\n",
    "# TODO.  \n",
    "RSS = np.zeros([nd, nfold])\n",
    "\n",
    "for i in range(0, nd):\n",
    "    X_d = X0 [:,np.argsort(R_2)[-dtest[i]:]]\n",
    "    cur_fold = 0\n",
    "    \n",
    "    for train_index, test_index in kf.split(X_d, y0):\n",
    "        xtr ,ytr= X_d[train_index], y0[train_index]\n",
    "        xts, yts = X_d[test_index], y0[test_index]\n",
    "        temp_model = LinearRegression().fit(xtr, ytr)\n",
    "\n",
    "        ypred = temp_model.predict(xts)\n",
    "        RSS[i][cur_fold] += np.dot((yts - ypred).T, (yts - ypred))\n",
    "        cur_fold += 1\n",
    "    print(\"{} percent of mission complete\".format(((i+1)/nd) * 100))"
   ]
  },
  {
   "cell_type": "markdown",
   "metadata": {},
   "source": [
    "Compute the RSS test mean and standard error and plot them as a function of the model order `d` using the `plt.errorbar()` method. "
   ]
  },
  {
   "cell_type": "code",
   "execution_count": 166,
   "metadata": {},
   "outputs": [
    {
     "data": {
      "text/plain": [
       "<ErrorbarContainer object of 3 artists>"
      ]
     },
     "execution_count": 166,
     "metadata": {},
     "output_type": "execute_result"
    },
    {
     "data": {
      "image/png": "[encoded data removed]",
      "text/plain": [
       "<Figure size 432x288 with 1 Axes>"
      ]
     },
     "metadata": {},
     "output_type": "display_data"
    }
   ],
   "source": [
    "# TODO\n",
    "RSS_mean = np.mean(RSS, axis = 1)\n",
    "RSS_std = np.std(RSS, axis = 1)\n",
    "plt.errorbar(dtest, RSS_mean, RSS_std)"
   ]
  },
  {
   "cell_type": "markdown",
   "metadata": {},
   "source": [
    "Find the optimal order using the one standard error rule. Print the optimal value of `d` and the mean test RSS per sample at the optimal `d`.  "
   ]
  },
  {
   "cell_type": "code",
   "execution_count": 170,
   "metadata": {},
   "outputs": [
    {
     "name": "stdout",
     "output_type": "stream",
     "text": [
      "130 are the optimal model order chosen, and the mean test RRS = 0.0009241312328492335\n"
     ]
    }
   ],
   "source": [
    "# TODO\n",
    "min_idx = np.argsort(RSS_mean)\n",
    "min_mean =  RSS_mean[min_idx[0]]\n",
    "min_std = RSS_std[min_idx[0]]\n",
    "possible_idx = list(filter(lambda x: RSS_mean[x] <= min_mean+ min_std, min_idx))\n",
    "\n",
    "d_choose = np.min(possible_idx)\n",
    "\n",
    "print(\"{} are the optimal model order chosen, and the mean test RRS = {}\".format(dtest[d_choose], RSS_mean[d_choose]/(y0.shape[0]/nfold)))"
   ]
  },
  {
   "cell_type": "markdown",
   "metadata": {},
   "source": [
    "## More Fun\n",
    "\n",
    "You can play around with this and many other neural data sets.  Two things that one can do to further improve the quality of fit are:\n",
    "* Use more time lags in the data.  Instead of predicting the hand motion from the spikes in the previous time, use the spikes in the last few delays.\n",
    "* Add a nonlinearity.  You should see that the predicted hand motion differs from the actual for high values of the actual.  You can improve the fit by adding a nonlinearity on the output.  A polynomial fit would work well here.\n",
    "\n",
    "You do not need to do these, but you can try them if you like."
   ]
  },
  {
   "cell_type": "code",
   "execution_count": 182,
   "metadata": {},
   "outputs": [
    {
     "name": "stdout",
     "output_type": "stream",
     "text": [
      "[ 5  9  6 12  2  4 11 10  3  0  1 17 15  8 16  7 13 14 18]\n",
      "190\n",
      "[-0.07589915 -0.05383698 -0.01675803 ... -0.09022686  0.04669881\n",
      " -0.00775485] [-0.07158467 -0.08567646  0.00985824 ... -0.07583984 -0.00032373\n",
      "  0.00844374]\n"
     ]
    },
    {
     "data": {
      "text/plain": [
       "'\\nit seems that no matter what the actual result is, the prediction value is always zero\\n'"
      ]
     },
     "execution_count": 182,
     "metadata": {},
     "output_type": "execute_result"
    },
    {
     "data": {
      "image/png": "[encoded data removed]",
      "text/plain": [
       "<Figure size 432x288 with 1 Axes>"
      ]
     },
     "metadata": {},
     "output_type": "display_data"
    }
   ],
   "source": [
    "'''\n",
    "The std is too big as d increase\n",
    "Check what's happened\n",
    "'''\n",
    "\n",
    "max_std_idx = np.argsort(RSS_std)\n",
    "print(max_std_idx)\n",
    "print(dtest[max_std_idx[-1]])\n",
    "\n",
    "X_weird = X0[:,np.argsort(R_2)[-190:]]\n",
    "Xtr, Xts, ytr, yts = train_test_split(X_weird, y0, test_size=0.5)\n",
    "\n",
    "weird_model = LinearRegression().fit(Xtr, ytr)\n",
    "\n",
    "ypred = weird_model.predict(Xts)\n",
    "\n",
    "print(yts, ypred)\n",
    "\n",
    "plt.xlabel('actual hand motion')\n",
    "plt.ylabel('weird predicted hand motion')\n",
    "plt.scatter(yts,ypred, s = 20)\n",
    "\n",
    "'''\n",
    "it seems that no matter what the actual result is, the prediction value is always zero\n",
    "the model fits into a constant line, since the irrevelant information out numbers revelant information\n",
    "'''"
   ]
  },
  {
   "cell_type": "code",
   "execution_count": null,
   "metadata": {},
   "outputs": [],
   "source": []
  }
 ],
 "metadata": {
  "anaconda-cloud": {},
  "kernelspec": {
   "display_name": "Python 3",
   "language": "python",
   "name": "python3"
  },
  "language_info": {
   "codemirror_mode": {
    "name": "ipython",
    "version": 3
   },
   "file_extension": ".py",
   "mimetype": "text/x-python",
   "name": "python",
   "nbconvert_exporter": "python",
   "pygments_lexer": "ipython3",
   "version": "3.6.5"
  }
 },
 "nbformat": 4,
 "nbformat_minor": 1
}
