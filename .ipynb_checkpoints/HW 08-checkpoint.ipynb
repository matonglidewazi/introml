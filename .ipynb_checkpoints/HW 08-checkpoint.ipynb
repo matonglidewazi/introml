{
 "cells": [
  {
   "cell_type": "code",
   "execution_count": 9,
   "metadata": {},
   "outputs": [],
   "source": [
    "import numpy as np\n",
    "import matplotlib\n",
    "import matplotlib.pyplot as plt"
   ]
  },
  {
   "cell_type": "code",
   "execution_count": 35,
   "metadata": {},
   "outputs": [],
   "source": [
    "x = np.array([0, 1.3, 2.1, 2.8, 4.2, 5.7])\n",
    "y = np.array([-1, -1, -1, 1,-1, 1])\n",
    "\n",
    "J = np.vectorize (lambda t :\n",
    "                  np.sum(\n",
    "                        (1-y*(x-t))*\n",
    "                        ((1-y*(x-t))>0).astype(int)\n",
    "                        )\n",
    "                 )"
   ]
  },
  {
   "cell_type": "code",
   "execution_count": 36,
   "metadata": {},
   "outputs": [],
   "source": [
    "t = np.arange(100)/20\n",
    "Jt = J(t)"
   ]
  },
  {
   "cell_type": "code",
   "execution_count": 40,
   "metadata": {},
   "outputs": [
    {
     "name": "stdout",
     "output_type": "stream",
     "text": [
      "3.1 3.4000000000000004\n"
     ]
    },
    {
     "data": {
      "text/plain": [
       "array([-0. , -0. ,  0. ,  1.3,  2.1, -0. ])"
      ]
     },
     "execution_count": 40,
     "metadata": {},
     "output_type": "execute_result"
    },
    {
     "data": {
      "image/png": "[encoded data removed]",
      "text/plain": [
       "<Figure size 432x288 with 1 Axes>"
      ]
     },
     "metadata": {
      "needs_background": "light"
     },
     "output_type": "display_data"
    }
   ],
   "source": [
    "plt.scatter(t,Jt)\n",
    "print(t [np.argmin(Jt)], np.min(Jt))\n",
    "\n",
    "(1-y*(x-3.1))*((1-y*(x-3.1))>0).astype(int)\n"
   ]
  },
  {
   "cell_type": "code",
   "execution_count": null,
   "metadata": {},
   "outputs": [],
   "source": [
    " x = np."
   ]
  }
 ],
 "metadata": {
  "kernelspec": {
   "display_name": "machine learning",
   "language": "python",
   "name": "ml"
  },
  "language_info": {
   "codemirror_mode": {
    "name": "ipython",
    "version": 3
   },
   "file_extension": ".py",
   "mimetype": "text/x-python",
   "name": "python",
   "nbconvert_exporter": "python",
   "pygments_lexer": "ipython3",
   "version": "3.6.8"
  }
 },
 "nbformat": 4,
 "nbformat_minor": 2
}
